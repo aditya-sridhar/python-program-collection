{
 "cells": [
  {
   "cell_type": "markdown",
   "metadata": {},
   "source": [
    "# Tower of Hanoi Recursive Logic"
   ]
  },
  {
   "cell_type": "code",
   "execution_count": 17,
   "metadata": {},
   "outputs": [],
   "source": [
    "def move(n,from_rod,to_rod):\n",
    "    print('Move Disc from Rod '+from_rod+' to '+to_rod)\n",
    "\n",
    "\n",
    "def solve(n,from_rod,to_rod,aux_rod,no_steps):\n",
    "    if n == 0:\n",
    "        return no_steps\n",
    "    no_steps = solve(n-1,from_rod,aux_rod,to_rod,no_steps)\n",
    "    move(n,from_rod,to_rod)\n",
    "    no_steps += 1\n",
    "    no_steps = solve(n-1,aux_rod,to_rod,from_rod,no_steps)\n",
    "    return no_steps"
   ]
  },
  {
   "cell_type": "markdown",
   "metadata": {},
   "source": [
    "# 3 Discs Result"
   ]
  },
  {
   "cell_type": "code",
   "execution_count": 23,
   "metadata": {},
   "outputs": [
    {
     "name": "stdout",
     "output_type": "stream",
     "text": [
      "Move Disc from Rod A to C\n",
      "Move Disc from Rod A to B\n",
      "Move Disc from Rod C to B\n",
      "Move Disc from Rod A to C\n",
      "Move Disc from Rod B to A\n",
      "Move Disc from Rod B to C\n",
      "Move Disc from Rod A to C\n",
      "No of steps: 7\n"
     ]
    }
   ],
   "source": [
    "no_steps = solve(3,'A','C','B',0)\n",
    "print('No of steps:',no_steps)"
   ]
  },
  {
   "cell_type": "markdown",
   "metadata": {},
   "source": [
    "# 4 Discs Result"
   ]
  },
  {
   "cell_type": "code",
   "execution_count": 22,
   "metadata": {},
   "outputs": [
    {
     "name": "stdout",
     "output_type": "stream",
     "text": [
      "Move Disc from Rod A to B\n",
      "Move Disc from Rod A to C\n",
      "Move Disc from Rod B to C\n",
      "Move Disc from Rod A to B\n",
      "Move Disc from Rod C to A\n",
      "Move Disc from Rod C to B\n",
      "Move Disc from Rod A to B\n",
      "Move Disc from Rod A to C\n",
      "Move Disc from Rod B to C\n",
      "Move Disc from Rod B to A\n",
      "Move Disc from Rod C to A\n",
      "Move Disc from Rod B to C\n",
      "Move Disc from Rod A to B\n",
      "Move Disc from Rod A to C\n",
      "Move Disc from Rod B to C\n",
      "No of steps: 15\n"
     ]
    }
   ],
   "source": [
    "no_steps = solve(4,'A','C','B',0)\n",
    "print('No of steps:',no_steps)"
   ]
  },
  {
   "cell_type": "code",
   "execution_count": null,
   "metadata": {},
   "outputs": [],
   "source": []
  }
 ],
 "metadata": {
  "kernelspec": {
   "display_name": "Python 3",
   "language": "python",
   "name": "python3"
  },
  "language_info": {
   "codemirror_mode": {
    "name": "ipython",
    "version": 3
   },
   "file_extension": ".py",
   "mimetype": "text/x-python",
   "name": "python",
   "nbconvert_exporter": "python",
   "pygments_lexer": "ipython3",
   "version": "3.6.3"
  }
 },
 "nbformat": 4,
 "nbformat_minor": 2
}
