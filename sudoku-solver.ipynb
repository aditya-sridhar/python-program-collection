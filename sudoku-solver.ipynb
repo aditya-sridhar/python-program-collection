{
 "cells": [
  {
   "cell_type": "markdown",
   "metadata": {},
   "source": [
    "# Sudoku Solver"
   ]
  },
  {
   "cell_type": "code",
   "execution_count": 42,
   "metadata": {},
   "outputs": [],
   "source": [
    "import numpy as np\n",
    "import math"
   ]
  },
  {
   "cell_type": "code",
   "execution_count": 43,
   "metadata": {},
   "outputs": [],
   "source": [
    "def get_subgrid_indices(r,c):\n",
    "    sg_row_start = math.floor(r/3) * 3\n",
    "    sg_row_end = sg_row_start + 3\n",
    "    sg_col_start = math.floor(c/3) * 3\n",
    "    sg_col_end = sg_col_start + 3\n",
    "    return (sg_row_start,sg_row_end,sg_col_start,sg_col_end)"
   ]
  },
  {
   "cell_type": "code",
   "execution_count": 44,
   "metadata": {},
   "outputs": [],
   "source": [
    "def is_number_possible_in_position(number,r,c,grid):\n",
    "    not_in_row = not(number in grid[r,:])\n",
    "    not_in_column = not(number in grid[:,c]) \n",
    "    (sg_row_start,sg_row_end,sg_col_start,sg_col_end) = get_subgrid_indices(r,c)\n",
    "    not_in_subgrid = not(number in grid[sg_row_start:sg_row_end,sg_col_start:sg_col_end])\n",
    "    return not_in_row and not_in_column and not_in_subgrid "
   ]
  },
  {
   "cell_type": "code",
   "execution_count": 45,
   "metadata": {},
   "outputs": [],
   "source": [
    "def solve():\n",
    "    for r in range(9):\n",
    "        for c in range(9):\n",
    "            if(grid[r][c] == 0):\n",
    "                for number in range(1,10):\n",
    "                    if(is_number_possible_in_position(number,r,c,grid)):\n",
    "                        grid[r][c] = number\n",
    "                        solve()\n",
    "                        grid[r][c] = 0\n",
    "                return\n",
    "    print('Solution')\n",
    "    print(grid)                     "
   ]
  },
  {
   "cell_type": "code",
   "execution_count": 46,
   "metadata": {},
   "outputs": [
    {
     "name": "stdout",
     "output_type": "stream",
     "text": [
      "Input\n",
      "[[0 0 5 2 0 0 0 7 0]\n",
      " [0 0 3 0 0 1 0 0 0]\n",
      " [0 2 0 0 0 0 0 0 5]\n",
      " [6 7 0 0 0 0 4 8 0]\n",
      " [0 0 1 9 0 0 0 0 0]\n",
      " [0 0 0 7 0 0 3 0 0]\n",
      " [0 8 4 0 5 0 6 0 0]\n",
      " [1 0 0 0 0 4 0 0 0]\n",
      " [0 9 0 0 0 0 0 0 7]]\n",
      "Solution\n",
      "[[4 1 5 2 6 9 8 7 3]\n",
      " [7 6 3 5 8 1 9 2 4]\n",
      " [9 2 8 4 7 3 1 6 5]\n",
      " [6 7 2 1 3 5 4 8 9]\n",
      " [8 3 1 9 4 6 7 5 2]\n",
      " [5 4 9 7 2 8 3 1 6]\n",
      " [2 8 4 3 5 7 6 9 1]\n",
      " [1 5 7 6 9 4 2 3 8]\n",
      " [3 9 6 8 1 2 5 4 7]]\n"
     ]
    }
   ],
   "source": [
    "grid = np.array([\n",
    "    [0,0,5,2,0,0,0,7,0],\n",
    "    [0,0,3,0,0,1,0,0,0],\n",
    "    [0,2,0,0,0,0,0,0,5],\n",
    "    [6,7,0,0,0,0,4,8,0],\n",
    "    [0,0,1,9,0,0,0,0,0],\n",
    "    [0,0,0,7,0,0,3,0,0],\n",
    "    [0,8,4,0,5,0,6,0,0],\n",
    "    [1,0,0,0,0,4,0,0,0],\n",
    "    [0,9,0,0,0,0,0,0,7]\n",
    "])\n",
    "print(\"Input\")\n",
    "print(grid)\n",
    "solve()"
   ]
  },
  {
   "cell_type": "code",
   "execution_count": null,
   "metadata": {},
   "outputs": [],
   "source": []
  }
 ],
 "metadata": {
  "kernelspec": {
   "display_name": "Python 3",
   "language": "python",
   "name": "python3"
  },
  "language_info": {
   "codemirror_mode": {
    "name": "ipython",
    "version": 3
   },
   "file_extension": ".py",
   "mimetype": "text/x-python",
   "name": "python",
   "nbconvert_exporter": "python",
   "pygments_lexer": "ipython3",
   "version": "3.6.3"
  }
 },
 "nbformat": 4,
 "nbformat_minor": 2
}
